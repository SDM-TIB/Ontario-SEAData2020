{
 "cells": [
  {
   "cell_type": "markdown",
   "metadata": {},
   "source": [
    "## install dependencies"
   ]
  },
  {
   "cell_type": "code",
   "execution_count": null,
   "metadata": {},
   "outputs": [],
   "source": [
    "# install the devtools package\n",
    "install.packages(\"devtools\")"
   ]
  },
  {
   "cell_type": "code",
   "execution_count": null,
   "metadata": {},
   "outputs": [],
   "source": [
    "# install the dief package from GitHub (Oct 2019)\n",
    "library(\"devtools\")\n",
    "devtools::install_github(\"maribelacosta/dief\", ref = \"1a176d8\")"
   ]
  },
  {
   "cell_type": "markdown",
   "metadata": {},
   "source": [
    "### set up environment"
   ]
  },
  {
   "cell_type": "code",
   "execution_count": null,
   "metadata": {},
   "outputs": [],
   "source": [
    "# load the dief R package\n",
    "library(\"dief\")"
   ]
  },
  {
   "cell_type": "code",
   "execution_count": null,
   "metadata": {},
   "outputs": [],
   "source": [
    "# set the working directory\n",
    "# WARNING: do not run this twice\n",
    "setwd(paste(getwd(), \"/results/analysis\", sep = ''))"
   ]
  },
  {
   "cell_type": "code",
   "execution_count": null,
   "metadata": {},
   "outputs": [],
   "source": [
    "# query names\n",
    "queries = c(\"Q1\", \"Q2\", \"Q3\", \"Q4\", \"Q5\")\n",
    "\n",
    "# colors used for the plots\n",
    "#colors = c(\"#ECC30B\",\"#D56062\",\"#000000\",\"#AD09CD\")\n",
    "colors = c(\"#20639B\", \"#5DD39E\", \"#121212\", \"#D5717F\")"
   ]
  },
  {
   "cell_type": "markdown",
   "metadata": {},
   "source": [
    "### plot answer traces"
   ]
  },
  {
   "cell_type": "code",
   "execution_count": null,
   "metadata": {},
   "outputs": [],
   "source": [
    "traces_woidx <- read.csv(\"traces_woidx.csv\")\n",
    "traces_idx <- read.csv(\"traces_idx.csv\")"
   ]
  },
  {
   "cell_type": "code",
   "execution_count": null,
   "metadata": {},
   "outputs": [],
   "source": [
    "for (q in queries) {\n",
    "    # woidx\n",
    "    png(filename = paste(\"traces/traces_woidx_\", q, \".png\", sep=\"\"))\n",
    "    plotAnswerTrace(traces_woidx, q, colors)\n",
    "    dev.off()\n",
    "    \n",
    "    # idx\n",
    "    png(filename = paste(\"traces/traces_idx_\", q, \".png\", sep=\"\"))\n",
    "    plotAnswerTrace(traces_idx, q, colors)\n",
    "    dev.off()\n",
    "}"
   ]
  },
  {
   "cell_type": "markdown",
   "metadata": {},
   "source": [
    "### compute dief@t"
   ]
  },
  {
   "cell_type": "code",
   "execution_count": null,
   "metadata": {},
   "outputs": [],
   "source": [
    "metrics_woidx <- read.csv(\"metrics_woidx.csv\")\n",
    "metrics_idx <- read.csv(\"metrics_idx.csv\")"
   ]
  },
  {
   "cell_type": "code",
   "execution_count": null,
   "metadata": {},
   "outputs": [],
   "source": [
    "exp1_woidx <- experiment1(traces_woidx, metrics_woidx)\n",
    "exp1_idx <- experiment1(traces_idx, metrics_idx)"
   ]
  },
  {
   "cell_type": "code",
   "execution_count": null,
   "metadata": {},
   "outputs": [],
   "source": [
    "for (q in queries) {\n",
    "    # woidx\n",
    "    png(filename = paste(\"dieft/dieft_woidx_\", q, \".png\", sep=\"\"))\n",
    "    plotExperiment1Test(exp1_woidx, q, colors)\n",
    "    dev.off()\n",
    "    \n",
    "    # idx\n",
    "    png(filename = paste(\"dieft/dieft_idx_\", q, \".png\", sep=\"\"))\n",
    "    plotExperiment1Test(exp1_idx, q, colors)\n",
    "    dev.off()\n",
    "}"
   ]
  },
  {
   "cell_type": "markdown",
   "metadata": {},
   "source": [
    "### compute dief@k"
   ]
  },
  {
   "cell_type": "code",
   "execution_count": null,
   "metadata": {},
   "outputs": [],
   "source": [
    "exp2_woidx <- experiment2(traces_woidx)\n",
    "exp2_idx <- experiment2(traces_idx)"
   ]
  },
  {
   "cell_type": "code",
   "execution_count": null,
   "metadata": {},
   "outputs": [],
   "source": [
    "for (q in queries) {\n",
    "    # woidx\n",
    "    png(filename = paste(\"diefk/diefk_woidx_\", q, \".png\", sep=\"\"))\n",
    "    plotExperiment2Test(exp2_woidx, q)\n",
    "    dev.off()\n",
    "    \n",
    "    # idx\n",
    "    png(filename = paste(\"diefk/diefk_idx_\", q, \".png\", sep=\"\"))\n",
    "    plotExperiment2Test(exp2_idx, q)\n",
    "    dev.off()\n",
    "}"
   ]
  },
  {
   "cell_type": "code",
   "execution_count": null,
   "metadata": {},
   "outputs": [],
   "source": []
  }
 ],
 "metadata": {
  "kernelspec": {
   "display_name": "R",
   "language": "R",
   "name": "ir"
  },
  "language_info": {
   "codemirror_mode": "r",
   "file_extension": ".r",
   "mimetype": "text/x-r-source",
   "name": "R",
   "pygments_lexer": "r",
   "version": "3.4.4"
  }
 },
 "nbformat": 4,
 "nbformat_minor": 2
}
